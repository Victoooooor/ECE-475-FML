{
 "metadata": {
  "language_info": {
   "codemirror_mode": {
    "name": "ipython",
    "version": 3
   },
   "file_extension": ".py",
   "mimetype": "text/x-python",
   "name": "python",
   "nbconvert_exporter": "python",
   "pygments_lexer": "ipython3",
   "version": "3.8.5-final"
  },
  "orig_nbformat": 2,
  "kernelspec": {
   "name": "python_defaultSpec_1597301836289",
   "display_name": "Python 3.8.5 64-bit"
  }
 },
 "nbformat": 4,
 "nbformat_minor": 2,
 "cells": [
  {
   "cell_type": "code",
   "execution_count": 1,
   "metadata": {},
   "outputs": [],
   "source": [
    "import pandas as pd\n",
    "import numpy as np\n",
    "from sklearn.decomposition import NMF\n",
    "ratings = pd.read_csv(\"./ml-latest-small/ratings.csv\",usecols = [0,1,2])\n",
    "X = ratings.pivot(index = 'userId', columns ='movieId', values = 'rating').fillna(0)\n",
    "movies = pd.read_csv(\"./ml-latest-small/movies.csv\",usecols = [1])"
   ]
  },
  {
   "cell_type": "code",
   "execution_count": 2,
   "metadata": {
    "tags": []
   },
   "outputs": [
    {
     "output_type": "stream",
     "name": "stdout",
     "text": "predict:\n"
    },
    {
     "output_type": "execute_result",
     "data": {
      "text/plain": "         0         1         2         3         4         5         6     \\\n0    2.650055  1.058449  1.110011  0.024244  0.183477  1.263606  0.378500   \n1    0.203676  0.041615  0.000000  0.000000  0.019377  0.172698  0.000000   \n2    0.075875  0.060794  0.073505  0.000000  0.000000  0.034850  0.010637   \n3    2.062874  0.329728  0.213133  0.067022  0.256139  0.782212  0.291773   \n4    0.994747  1.021653  0.326371  0.084741  0.365676  0.496302  0.399178   \n..        ...       ...       ...       ...       ...       ...       ...   \n605  1.929708  0.963138  0.096190  0.048640  0.689787  0.963057  1.572655   \n606  2.161464  1.014256  0.564021  0.027023  0.108694  1.163710  0.185161   \n607  2.822480  1.719334  1.159371  0.034683  0.259519  3.195885  0.441209   \n608  0.584170  0.776505  0.127652  0.043852  0.138296  0.177594  0.138846   \n609  3.734215  0.880994  0.052084  0.000000  0.015520  4.086762  0.009821   \n\n         7         8         9     ...      9714      9715      9716  \\\n0    0.019364  0.167724  1.605054  ...  0.000115  0.000098  0.000131   \n1    0.000000  0.000000  0.004470  ...  0.005382  0.004613  0.006151   \n2    0.000000  0.007265  0.060984  ...  0.000043  0.000037  0.000049   \n3    0.015703  0.104151  0.218086  ...  0.000000  0.000000  0.000000   \n4    0.108062  0.117305  1.361582  ...  0.000296  0.000254  0.000339   \n..        ...       ...       ...  ...       ...       ...       ...   \n605  0.019590  0.000000  0.625383  ...  0.000000  0.000000  0.000000   \n606  0.064691  0.056062  1.641961  ...  0.000000  0.000000  0.000000   \n607  0.456448  0.093213  3.847013  ...  0.001423  0.001220  0.001626   \n608  0.072104  0.000000  1.113962  ...  0.000212  0.000182  0.000242   \n609  0.000000  0.157144  0.545969  ...  0.028146  0.024125  0.032167   \n\n         9717      9718      9719      9720      9721      9722      9723  \n0    0.000131  0.000115  0.000131  0.000115  0.000115  0.000115  0.000401  \n1    0.006151  0.005382  0.006151  0.005382  0.005382  0.005382  0.018822  \n2    0.000049  0.000043  0.000049  0.000043  0.000043  0.000043  0.000000  \n3    0.000000  0.000000  0.000000  0.000000  0.000000  0.000000  0.000000  \n4    0.000339  0.000296  0.000339  0.000296  0.000296  0.000296  0.001037  \n..        ...       ...       ...       ...       ...       ...       ...  \n605  0.000000  0.000000  0.000000  0.000000  0.000000  0.000000  0.000000  \n606  0.000000  0.000000  0.000000  0.000000  0.000000  0.000000  0.000000  \n607  0.001626  0.001423  0.001626  0.001423  0.001423  0.001423  0.026832  \n608  0.000242  0.000212  0.000242  0.000212  0.000212  0.000212  0.000741  \n609  0.032167  0.028146  0.032167  0.028146  0.028146  0.028146  0.004948  \n\n[610 rows x 9724 columns]",
      "text/html": "<div>\n<style scoped>\n    .dataframe tbody tr th:only-of-type {\n        vertical-align: middle;\n    }\n\n    .dataframe tbody tr th {\n        vertical-align: top;\n    }\n\n    .dataframe thead th {\n        text-align: right;\n    }\n</style>\n<table border=\"1\" class=\"dataframe\">\n  <thead>\n    <tr style=\"text-align: right;\">\n      <th></th>\n      <th>0</th>\n      <th>1</th>\n      <th>2</th>\n      <th>3</th>\n      <th>4</th>\n      <th>5</th>\n      <th>6</th>\n      <th>7</th>\n      <th>8</th>\n      <th>9</th>\n      <th>...</th>\n      <th>9714</th>\n      <th>9715</th>\n      <th>9716</th>\n      <th>9717</th>\n      <th>9718</th>\n      <th>9719</th>\n      <th>9720</th>\n      <th>9721</th>\n      <th>9722</th>\n      <th>9723</th>\n    </tr>\n  </thead>\n  <tbody>\n    <tr>\n      <th>0</th>\n      <td>2.650055</td>\n      <td>1.058449</td>\n      <td>1.110011</td>\n      <td>0.024244</td>\n      <td>0.183477</td>\n      <td>1.263606</td>\n      <td>0.378500</td>\n      <td>0.019364</td>\n      <td>0.167724</td>\n      <td>1.605054</td>\n      <td>...</td>\n      <td>0.000115</td>\n      <td>0.000098</td>\n      <td>0.000131</td>\n      <td>0.000131</td>\n      <td>0.000115</td>\n      <td>0.000131</td>\n      <td>0.000115</td>\n      <td>0.000115</td>\n      <td>0.000115</td>\n      <td>0.000401</td>\n    </tr>\n    <tr>\n      <th>1</th>\n      <td>0.203676</td>\n      <td>0.041615</td>\n      <td>0.000000</td>\n      <td>0.000000</td>\n      <td>0.019377</td>\n      <td>0.172698</td>\n      <td>0.000000</td>\n      <td>0.000000</td>\n      <td>0.000000</td>\n      <td>0.004470</td>\n      <td>...</td>\n      <td>0.005382</td>\n      <td>0.004613</td>\n      <td>0.006151</td>\n      <td>0.006151</td>\n      <td>0.005382</td>\n      <td>0.006151</td>\n      <td>0.005382</td>\n      <td>0.005382</td>\n      <td>0.005382</td>\n      <td>0.018822</td>\n    </tr>\n    <tr>\n      <th>2</th>\n      <td>0.075875</td>\n      <td>0.060794</td>\n      <td>0.073505</td>\n      <td>0.000000</td>\n      <td>0.000000</td>\n      <td>0.034850</td>\n      <td>0.010637</td>\n      <td>0.000000</td>\n      <td>0.007265</td>\n      <td>0.060984</td>\n      <td>...</td>\n      <td>0.000043</td>\n      <td>0.000037</td>\n      <td>0.000049</td>\n      <td>0.000049</td>\n      <td>0.000043</td>\n      <td>0.000049</td>\n      <td>0.000043</td>\n      <td>0.000043</td>\n      <td>0.000043</td>\n      <td>0.000000</td>\n    </tr>\n    <tr>\n      <th>3</th>\n      <td>2.062874</td>\n      <td>0.329728</td>\n      <td>0.213133</td>\n      <td>0.067022</td>\n      <td>0.256139</td>\n      <td>0.782212</td>\n      <td>0.291773</td>\n      <td>0.015703</td>\n      <td>0.104151</td>\n      <td>0.218086</td>\n      <td>...</td>\n      <td>0.000000</td>\n      <td>0.000000</td>\n      <td>0.000000</td>\n      <td>0.000000</td>\n      <td>0.000000</td>\n      <td>0.000000</td>\n      <td>0.000000</td>\n      <td>0.000000</td>\n      <td>0.000000</td>\n      <td>0.000000</td>\n    </tr>\n    <tr>\n      <th>4</th>\n      <td>0.994747</td>\n      <td>1.021653</td>\n      <td>0.326371</td>\n      <td>0.084741</td>\n      <td>0.365676</td>\n      <td>0.496302</td>\n      <td>0.399178</td>\n      <td>0.108062</td>\n      <td>0.117305</td>\n      <td>1.361582</td>\n      <td>...</td>\n      <td>0.000296</td>\n      <td>0.000254</td>\n      <td>0.000339</td>\n      <td>0.000339</td>\n      <td>0.000296</td>\n      <td>0.000339</td>\n      <td>0.000296</td>\n      <td>0.000296</td>\n      <td>0.000296</td>\n      <td>0.001037</td>\n    </tr>\n    <tr>\n      <th>...</th>\n      <td>...</td>\n      <td>...</td>\n      <td>...</td>\n      <td>...</td>\n      <td>...</td>\n      <td>...</td>\n      <td>...</td>\n      <td>...</td>\n      <td>...</td>\n      <td>...</td>\n      <td>...</td>\n      <td>...</td>\n      <td>...</td>\n      <td>...</td>\n      <td>...</td>\n      <td>...</td>\n      <td>...</td>\n      <td>...</td>\n      <td>...</td>\n      <td>...</td>\n      <td>...</td>\n    </tr>\n    <tr>\n      <th>605</th>\n      <td>1.929708</td>\n      <td>0.963138</td>\n      <td>0.096190</td>\n      <td>0.048640</td>\n      <td>0.689787</td>\n      <td>0.963057</td>\n      <td>1.572655</td>\n      <td>0.019590</td>\n      <td>0.000000</td>\n      <td>0.625383</td>\n      <td>...</td>\n      <td>0.000000</td>\n      <td>0.000000</td>\n      <td>0.000000</td>\n      <td>0.000000</td>\n      <td>0.000000</td>\n      <td>0.000000</td>\n      <td>0.000000</td>\n      <td>0.000000</td>\n      <td>0.000000</td>\n      <td>0.000000</td>\n    </tr>\n    <tr>\n      <th>606</th>\n      <td>2.161464</td>\n      <td>1.014256</td>\n      <td>0.564021</td>\n      <td>0.027023</td>\n      <td>0.108694</td>\n      <td>1.163710</td>\n      <td>0.185161</td>\n      <td>0.064691</td>\n      <td>0.056062</td>\n      <td>1.641961</td>\n      <td>...</td>\n      <td>0.000000</td>\n      <td>0.000000</td>\n      <td>0.000000</td>\n      <td>0.000000</td>\n      <td>0.000000</td>\n      <td>0.000000</td>\n      <td>0.000000</td>\n      <td>0.000000</td>\n      <td>0.000000</td>\n      <td>0.000000</td>\n    </tr>\n    <tr>\n      <th>607</th>\n      <td>2.822480</td>\n      <td>1.719334</td>\n      <td>1.159371</td>\n      <td>0.034683</td>\n      <td>0.259519</td>\n      <td>3.195885</td>\n      <td>0.441209</td>\n      <td>0.456448</td>\n      <td>0.093213</td>\n      <td>3.847013</td>\n      <td>...</td>\n      <td>0.001423</td>\n      <td>0.001220</td>\n      <td>0.001626</td>\n      <td>0.001626</td>\n      <td>0.001423</td>\n      <td>0.001626</td>\n      <td>0.001423</td>\n      <td>0.001423</td>\n      <td>0.001423</td>\n      <td>0.026832</td>\n    </tr>\n    <tr>\n      <th>608</th>\n      <td>0.584170</td>\n      <td>0.776505</td>\n      <td>0.127652</td>\n      <td>0.043852</td>\n      <td>0.138296</td>\n      <td>0.177594</td>\n      <td>0.138846</td>\n      <td>0.072104</td>\n      <td>0.000000</td>\n      <td>1.113962</td>\n      <td>...</td>\n      <td>0.000212</td>\n      <td>0.000182</td>\n      <td>0.000242</td>\n      <td>0.000242</td>\n      <td>0.000212</td>\n      <td>0.000242</td>\n      <td>0.000212</td>\n      <td>0.000212</td>\n      <td>0.000212</td>\n      <td>0.000741</td>\n    </tr>\n    <tr>\n      <th>609</th>\n      <td>3.734215</td>\n      <td>0.880994</td>\n      <td>0.052084</td>\n      <td>0.000000</td>\n      <td>0.015520</td>\n      <td>4.086762</td>\n      <td>0.009821</td>\n      <td>0.000000</td>\n      <td>0.157144</td>\n      <td>0.545969</td>\n      <td>...</td>\n      <td>0.028146</td>\n      <td>0.024125</td>\n      <td>0.032167</td>\n      <td>0.032167</td>\n      <td>0.028146</td>\n      <td>0.032167</td>\n      <td>0.028146</td>\n      <td>0.028146</td>\n      <td>0.028146</td>\n      <td>0.004948</td>\n    </tr>\n  </tbody>\n</table>\n<p>610 rows × 9724 columns</p>\n</div>"
     },
     "metadata": {},
     "execution_count": 2
    }
   ],
   "source": [
    "param = {'n_components' : 20,'init' : 'random','l1_ratio' : 0,'max_iter' : 20}\n",
    "nmf_model = NMF(**param)\n",
    "nmf_model.fit(X)\n",
    "W=nmf_model.transform(X)\n",
    "H=nmf_model.components_\n",
    "Xhat = pd.DataFrame(np.dot(W,H))\n",
    "print('predict:')\n",
    "Xhat"
   ]
  },
  {
   "cell_type": "code",
   "execution_count": 3,
   "metadata": {},
   "outputs": [
    {
     "output_type": "execute_result",
     "data": {
      "text/plain": "507     4.160334\n901     3.669267\n2077    3.138258\n793     3.122374\n1444    2.719466\nName: 0, dtype: float64"
     },
     "metadata": {},
     "execution_count": 3
    }
   ],
   "source": [
    "user_id = 1\n",
    "user_data = Xhat.loc[[user_id-1]].values.tolist()\n",
    "user_data.append(X.loc[[user_id]].values.tolist()[0])\n",
    "user_data = pd.DataFrame(user_data)\n",
    "user_data=user_data.sort_values(0,axis = 1, ascending=0).transpose()\n",
    "recommend_list=user_data[0][user_data[1]==0][:5]\n",
    "recommend_list"
   ]
  },
  {
   "cell_type": "code",
   "execution_count": 4,
   "metadata": {},
   "outputs": [
    {
     "output_type": "execute_result",
     "data": {
      "text/plain": "                                    507            901   \\\ntitle  Terminator 2: Judgment Day (1991)  Brazil (1985)   \n\n                         2077             793               1444  \ntitle  Iron Giant, The (1999)  Die Hard (1988)  Labyrinth (1986)  ",
      "text/html": "<div>\n<style scoped>\n    .dataframe tbody tr th:only-of-type {\n        vertical-align: middle;\n    }\n\n    .dataframe tbody tr th {\n        vertical-align: top;\n    }\n\n    .dataframe thead th {\n        text-align: right;\n    }\n</style>\n<table border=\"1\" class=\"dataframe\">\n  <thead>\n    <tr style=\"text-align: right;\">\n      <th></th>\n      <th>507</th>\n      <th>901</th>\n      <th>2077</th>\n      <th>793</th>\n      <th>1444</th>\n    </tr>\n  </thead>\n  <tbody>\n    <tr>\n      <th>title</th>\n      <td>Terminator 2: Judgment Day (1991)</td>\n      <td>Brazil (1985)</td>\n      <td>Iron Giant, The (1999)</td>\n      <td>Die Hard (1988)</td>\n      <td>Labyrinth (1986)</td>\n    </tr>\n  </tbody>\n</table>\n</div>"
     },
     "metadata": {},
     "execution_count": 4
    }
   ],
   "source": [
    "#recommend for existing user\n",
    "def recommend(X, Xhat, user_id, length):\n",
    "    user_data = Xhat.loc[[user_id-1]].values.tolist()\n",
    "    user_data.append(X.loc[[user_id]].values.tolist()[0])\n",
    "    user_data = pd.DataFrame(user_data)\n",
    "    user_data=user_data.sort_values(0,axis = 1, ascending=0).transpose()\n",
    "    recommend_list=user_data[0][user_data[1]==0][:length]\n",
    "    return movies.T[recommend_list.index.values.tolist()]\n",
    "recommend(X,Xhat,1,5)"
   ]
  },
  {
   "cell_type": "code",
   "execution_count": 5,
   "metadata": {},
   "outputs": [
    {
     "output_type": "execute_result",
     "data": {
      "text/plain": "                                     138                    322  \\\ntitle  Die Hard: With a Vengeance (1995)  Lion King, The (1994)   \n\n                       134                          512              253  \\\ntitle  Crimson Tide (1995)  Beauty and the Beast (1991)  Outbreak (1995)   \n\n                   275                 378                                302  \\\ntitle  Stargate (1994)  Cliffhanger (1993)  Ace Ventura: Pet Detective (1994)   \n\n               32                             287  \ntitle  Babe (1995)  Star Trek: Generations (1994)  ",
      "text/html": "<div>\n<style scoped>\n    .dataframe tbody tr th:only-of-type {\n        vertical-align: middle;\n    }\n\n    .dataframe tbody tr th {\n        vertical-align: top;\n    }\n\n    .dataframe thead th {\n        text-align: right;\n    }\n</style>\n<table border=\"1\" class=\"dataframe\">\n  <thead>\n    <tr style=\"text-align: right;\">\n      <th></th>\n      <th>138</th>\n      <th>322</th>\n      <th>134</th>\n      <th>512</th>\n      <th>253</th>\n      <th>275</th>\n      <th>378</th>\n      <th>302</th>\n      <th>32</th>\n      <th>287</th>\n    </tr>\n  </thead>\n  <tbody>\n    <tr>\n      <th>title</th>\n      <td>Die Hard: With a Vengeance (1995)</td>\n      <td>Lion King, The (1994)</td>\n      <td>Crimson Tide (1995)</td>\n      <td>Beauty and the Beast (1991)</td>\n      <td>Outbreak (1995)</td>\n      <td>Stargate (1994)</td>\n      <td>Cliffhanger (1993)</td>\n      <td>Ace Ventura: Pet Detective (1994)</td>\n      <td>Babe (1995)</td>\n      <td>Star Trek: Generations (1994)</td>\n    </tr>\n  </tbody>\n</table>\n</div>"
     },
     "metadata": {},
     "execution_count": 5
    }
   ],
   "source": [
    "recommend(X,Xhat,133,10)"
   ]
  }
 ]
}