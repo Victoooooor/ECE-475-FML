{
 "cells": [
  {
   "cell_type": "code",
   "execution_count": 1,
   "metadata": {},
   "outputs": [
    {
     "output_type": "execute_result",
     "data": {
      "text/plain": "0.434576165535505"
     },
     "metadata": {},
     "execution_count": 1
    }
   ],
   "source": [
    "import numpy as np\n",
    "from FML.Regresion.prep import FL\n",
    "from FML.Regresion.Linear import LR\n",
    "from FML.Regresion.Ridge import RR\n",
    "data_prep = FL('1.csv')\n",
    "#data_prep.prep()\n",
    "trainfile = 'train.csv'\n",
    "testfile = 'test.csv'\n",
    "validfile = 'validation.csv'\n",
    "LR_train = LR(trainfile)\n",
    "LR_train.formulate(11)\n",
    "LR_train.cal_beta()\n",
    "LR_train.test(testfile)"
   ]
  },
  {
   "cell_type": "code",
   "execution_count": 2,
   "metadata": {
    "tags": []
   },
   "outputs": [
    {
     "output_type": "execute_result",
     "data": {
      "text/plain": "1060.2237048655618"
     },
     "metadata": {},
     "execution_count": 2
    }
   ],
   "source": [
    "RR_train = RR(trainfile)\n",
    "RR_train.formulate(11)\n",
    "RR_train.normalize()\n",
    "lamda = 0\n",
    "RR_train.cal_beta(lamda)\n",
    "RR_train.test(validfile)"
   ]
  },
  {
   "cell_type": "code",
   "execution_count": 3,
   "metadata": {},
   "outputs": [
    {
     "output_type": "execute_result",
     "data": {
      "text/plain": "0.6618182866444554"
     },
     "metadata": {},
     "execution_count": 3
    }
   ],
   "source": [
    "lamda = 0\n",
    "RR_train.cal_beta(lamda)\n",
    "rec = RR_train.test(validfile)\n",
    "for i in np.arange(-69,-67.5,0.01):\n",
    "    RR_train.cal_beta(i)\n",
    "    temp = RR_train.test(validfile)\n",
    "    if temp < rec:\n",
    "        rec = temp\n",
    "        lamda = i\n",
    "RR_train.cal_beta(lamda)\n",
    "RR_train.test(validfile)"
   ]
  },
  {
   "cell_type": "code",
   "execution_count": 4,
   "metadata": {},
   "outputs": [
    {
     "output_type": "execute_result",
     "data": {
      "text/plain": "-68.20000000000005"
     },
     "metadata": {},
     "execution_count": 4
    }
   ],
   "source": [
    "lamda"
   ]
  },
  {
   "cell_type": "code",
   "execution_count": null,
   "metadata": {},
   "outputs": [],
   "source": []
  }
 ],
 "metadata": {
  "language_info": {
   "codemirror_mode": {
    "name": "ipython",
    "version": 3
   },
   "file_extension": ".py",
   "mimetype": "text/x-python",
   "name": "python",
   "nbconvert_exporter": "python",
   "pygments_lexer": "ipython3",
   "version": 3
  },
  "orig_nbformat": 2,
  "kernelspec": {
   "name": "python_defaultSpec_1595281429367",
   "display_name": "Python 3.8.3 32-bit"
  }
 },
 "nbformat": 4,
 "nbformat_minor": 2
}