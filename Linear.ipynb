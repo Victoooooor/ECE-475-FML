{
 "cells": [
  {
   "cell_type": "code",
   "execution_count": 1,
   "metadata": {},
   "outputs": [
    {
     "output_type": "execute_result",
     "data": {
      "text/plain": "0.434576165535505"
     },
     "metadata": {},
     "execution_count": 1
    }
   ],
   "source": [
    "import numpy as np\n",
    "from FML.Regresion.prep import FL\n",
    "from FML.Regresion.Linear import LR\n",
    "from FML.Regresion.Ridge import RR\n",
    "data_prep = FL('1.csv')\n",
    "#data_prep.prep()\n",
    "trainfile = 'train.csv'\n",
    "testfile = 'test.csv'\n",
    "validfile = 'validation.csv'\n",
    "LR_train = LR(trainfile)\n",
    "LR_train.formulate(11)\n",
    "LR_train.cal_beta()\n",
    "LR_train.test(testfile)"
   ]
  },
  {
   "cell_type": "code",
   "execution_count": 2,
   "metadata": {
    "tags": []
   },
   "outputs": [
    {
     "output_type": "execute_result",
     "data": {
      "text/plain": "matrix([[-26.65055938],\n        [-26.4800576 ],\n        [-26.63541002],\n        [-26.17788006],\n        [-26.68258888],\n        [-26.73234567],\n        [-26.65667557],\n        [-27.21972838],\n        [-27.01243066],\n        [-27.55645822],\n        [-27.16243226],\n        [-26.88689754],\n        [-26.91202025],\n        [-26.13565301],\n        [-27.40971239],\n        [-27.00092752],\n        [-26.64127649],\n        [-26.18819063],\n        [-27.55378162],\n        [-26.07571379],\n        [-26.78889855],\n        [-26.66156446],\n        [-27.0192654 ],\n        [-26.72365939],\n        [-26.50734829],\n        [-27.12153331],\n        [-26.61500328],\n        [-26.72242967],\n        [-26.47688051],\n        [-27.10344233],\n        [-26.32099074],\n        [-25.91804486],\n        [-26.28041793],\n        [-27.32102253],\n        [-27.77270952],\n        [-26.7976784 ],\n        [-27.15963079],\n        [-27.28409335],\n        [-26.46814307],\n        [-26.7994471 ],\n        [-28.21924876],\n        [-27.23027535],\n        [-26.96857531],\n        [-27.50665801],\n        [-27.1785387 ],\n        [-26.52945095],\n        [-27.56278195],\n        [-26.99410934],\n        [-27.16494083],\n        [-26.52573848],\n        [-26.81154904],\n        [-26.81148927],\n        [-27.13828371],\n        [-26.77116224],\n        [-27.45899977],\n        [-26.74212596],\n        [-26.86152995],\n        [-26.73462167],\n        [-26.77468241],\n        [-26.16792057],\n        [-27.21896499],\n        [-26.96625739],\n        [-26.34135568],\n        [-26.84418631],\n        [-27.26479744],\n        [-27.51605674],\n        [-26.64609783],\n        [-26.81477758],\n        [-26.08332863],\n        [-27.16881574],\n        [-26.96187481],\n        [-27.22881089],\n        [-27.61652193],\n        [-26.67543242],\n        [-26.35686105],\n        [-27.14106955],\n        [-26.64655078],\n        [-26.29303799],\n        [-26.6732367 ],\n        [-26.95715075],\n        [-26.18309794],\n        [-27.26244039],\n        [-26.59350528],\n        [-26.91495984],\n        [-27.12486518],\n        [-27.17824393],\n        [-27.10331655],\n        [-27.37218666],\n        [-26.74724287],\n        [-26.53258031],\n        [-26.75997514],\n        [-27.08231177],\n        [-26.6761492 ],\n        [-26.21864438],\n        [-26.20637266],\n        [-26.92118408],\n        [-26.75135756],\n        [-26.81946305],\n        [-27.15277538],\n        [-26.93614674],\n        [-26.55117545],\n        [-27.25391909],\n        [-27.21281389],\n        [-27.13587344],\n        [-26.93290432],\n        [-25.84131163],\n        [-26.46373415],\n        [-26.39671514],\n        [-26.93044411],\n        [-26.39304503],\n        [-27.67764756],\n        [-25.90115097],\n        [-27.4300134 ],\n        [-27.21978428],\n        [-27.34752656],\n        [-26.93044411],\n        [-26.9086184 ],\n        [-26.53780376],\n        [-27.38600228],\n        [-26.20366741],\n        [-26.19553975],\n        [-27.81281102],\n        [-26.92436767],\n        [-26.59302017],\n        [-26.39294992],\n        [-27.73019513],\n        [-27.44922272],\n        [-27.21247368],\n        [-26.19431778],\n        [-26.58613061],\n        [-26.42435552],\n        [-27.36604427],\n        [-27.47373468],\n        [-26.79554792],\n        [-26.77891247],\n        [-27.25540816],\n        [-27.36488704],\n        [-26.50442109],\n        [-26.98726551],\n        [-25.99444328],\n        [-27.81573147],\n        [-26.74967175],\n        [-27.15246959],\n        [-26.49542282],\n        [-27.45165533],\n        [-26.9086184 ],\n        [-27.27806795],\n        [-27.49744196],\n        [-27.41896229],\n        [-26.72494148],\n        [-26.87984847],\n        [-26.54749523],\n        [-26.19555008],\n        [-26.3031988 ],\n        [-26.29000802],\n        [-26.69598055],\n        [-26.51985621],\n        [-26.25695229],\n        [-26.91449955],\n        [-25.93412845]])"
     },
     "metadata": {},
     "execution_count": 2
    }
   ],
   "source": [
    "RR_train = RR(trainfile)\n",
    "RR_train.formulate(11)\n",
    "RR_train.normalize()\n",
    "lamda = 0\n",
    "RR_train.cal_beta(lamda)\n",
    "RR_train.test(validfile)"
   ]
  },
  {
   "cell_type": "code",
   "execution_count": 3,
   "metadata": {},
   "outputs": [
    {
     "output_type": "error",
     "ename": "ValueError",
     "evalue": "The truth value of an array with more than one element is ambiguous. Use a.any() or a.all()",
     "traceback": [
      "\u001b[1;31m---------------------------------------------------------------------------\u001b[0m",
      "\u001b[1;31mValueError\u001b[0m                                Traceback (most recent call last)",
      "\u001b[1;32m<ipython-input-3-1ea6423bb326>\u001b[0m in \u001b[0;36m<module>\u001b[1;34m\u001b[0m\n\u001b[0;32m      5\u001b[0m     \u001b[0mRR_train\u001b[0m\u001b[1;33m.\u001b[0m\u001b[0mcal_beta\u001b[0m\u001b[1;33m(\u001b[0m\u001b[0mi\u001b[0m\u001b[1;33m)\u001b[0m\u001b[1;33m\u001b[0m\u001b[1;33m\u001b[0m\u001b[0m\n\u001b[0;32m      6\u001b[0m     \u001b[0mtemp\u001b[0m \u001b[1;33m=\u001b[0m \u001b[0mRR_train\u001b[0m\u001b[1;33m.\u001b[0m\u001b[0mtest\u001b[0m\u001b[1;33m(\u001b[0m\u001b[0mvalidfile\u001b[0m\u001b[1;33m)\u001b[0m\u001b[1;33m\u001b[0m\u001b[1;33m\u001b[0m\u001b[0m\n\u001b[1;32m----> 7\u001b[1;33m     \u001b[1;32mif\u001b[0m \u001b[0mtemp\u001b[0m \u001b[1;33m<\u001b[0m \u001b[0mrec\u001b[0m\u001b[1;33m:\u001b[0m\u001b[1;33m\u001b[0m\u001b[1;33m\u001b[0m\u001b[0m\n\u001b[0m\u001b[0;32m      8\u001b[0m         \u001b[0mrec\u001b[0m \u001b[1;33m=\u001b[0m \u001b[0mtemp\u001b[0m\u001b[1;33m\u001b[0m\u001b[1;33m\u001b[0m\u001b[0m\n\u001b[0;32m      9\u001b[0m         \u001b[0mlamda\u001b[0m \u001b[1;33m=\u001b[0m \u001b[0mi\u001b[0m\u001b[1;33m\u001b[0m\u001b[1;33m\u001b[0m\u001b[0m\n",
      "\u001b[1;31mValueError\u001b[0m: The truth value of an array with more than one element is ambiguous. Use a.any() or a.all()"
     ]
    }
   ],
   "source": [
    "lamda = 0\n",
    "RR_train.cal_beta(lamda)\n",
    "rec = RR_train.test(validfile)\n",
    "for i in np.arange(-500,500,0.5):\n",
    "    RR_train.cal_beta(i)\n",
    "    temp = RR_train.test(validfile)\n",
    "    if temp < rec:\n",
    "        rec = temp\n",
    "        lamda = i\n",
    "RR_train.cal_beta(lamda)\n",
    "RR_train.test(validfile)"
   ]
  },
  {
   "cell_type": "code",
   "execution_count": null,
   "metadata": {},
   "outputs": [],
   "source": [
    "np.matrix([[1,1],[2,2]])-np.matrix([[0],[2]]).transpose()"
   ]
  },
  {
   "cell_type": "code",
   "execution_count": 4,
   "metadata": {},
   "outputs": [
    {
     "output_type": "execute_result",
     "data": {
      "text/plain": "array([[3., 0., 0.],\n       [0., 3., 0.],\n       [0., 0., 3.]])"
     },
     "metadata": {},
     "execution_count": 4
    }
   ],
   "source": [
    "3*np.identity(3)"
   ]
  },
  {
   "cell_type": "code",
   "execution_count": 3,
   "metadata": {},
   "outputs": [
    {
     "output_type": "execute_result",
     "data": {
      "text/plain": "matrix([[1.        , 0.59748428, 0.27819549, ..., 0.82044888, 0.29      ,\n         0.74496644],\n        [1.        , 0.37735849, 0.43609023, ..., 0.89276808, 0.335     ,\n         0.83892617],\n        [1.        , 0.46540881, 0.27067669, ..., 0.84538653, 0.34      ,\n         0.73825503],\n        ...,\n        [1.        , 0.72327044, 0.33834586, ..., 0.81296758, 0.555     ,\n         0.73825503],\n        [1.        , 0.42767296, 0.5112782 , ..., 0.85037406, 0.26      ,\n         0.74496644],\n        [1.        , 0.32075472, 0.31578947, ..., 0.91770574, 0.365     ,\n         0.91275168]])"
     },
     "metadata": {},
     "execution_count": 3
    }
   ],
   "source": [
    "RR_train.tX"
   ]
  },
  {
   "cell_type": "code",
   "execution_count": null,
   "metadata": {},
   "outputs": [],
   "source": []
  }
 ],
 "metadata": {
  "language_info": {
   "codemirror_mode": {
    "name": "ipython",
    "version": 3
   },
   "file_extension": ".py",
   "mimetype": "text/x-python",
   "name": "python",
   "nbconvert_exporter": "python",
   "pygments_lexer": "ipython3",
   "version": 3
  },
  "orig_nbformat": 2,
  "kernelspec": {
   "name": "python_defaultSpec_1595278501334",
   "display_name": "Python 3.8.3 32-bit"
  }
 },
 "nbformat": 4,
 "nbformat_minor": 2
}