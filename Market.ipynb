{
 "cells": [
  {
   "cell_type": "code",
   "execution_count": 1,
   "metadata": {},
   "outputs": [],
   "source": [
    "import pandas as pd\n",
    "import numpy as np\n",
    "from apyori import apriori\n",
    "#load groceries data https://www.kaggle.com/irfanasrullah/groceries/data\n",
    "#the dataset is composed of 9835 instanced of shopping history, and there's a total of 169 different items listed\n",
    "#the goal is to see which items are strongly correlated\n",
    "#this study may be able to boost sells for retails\n",
    "#map names to int for convinience (this plan turns out only complicates the preprocessing step and is therefore abandoned)\n",
    "data= pd.read_csv('groceries.csv',header=None,names=range(31))\n",
    "items = []\n",
    "for i in range(len(data)):\n",
    "    #items  += pd.unique(data[i].dropna()).tolist()\n",
    "    items += data.loc[[i]].dropna(axis=1).values.tolist()\n",
    "#items = pd.unique(items)\n",
    "#maps = { items[i] : i for i in range(len(items) ) }\n",
    "#maps[data.loc[0,30]] = data.loc[0,30]\n",
    "#data=data.applymap(lambda x: maps[x])\n",
    "\n"
   ]
  },
  {
   "cell_type": "code",
   "execution_count": 2,
   "metadata": {
    "tags": []
   },
   "outputs": [
    {
     "output_type": "stream",
     "name": "stdout",
     "text": "RelationRecord(items=frozenset({'other vegetables', 'root vegetables'}), support=0.047381799694966954, ordered_statistics=[OrderedStatistic(items_base=frozenset({'other vegetables'}), items_add=frozenset({'root vegetables'}), confidence=0.24487651077246453, lift=2.2466049285887957), OrderedStatistic(items_base=frozenset({'root vegetables'}), items_add=frozenset({'other vegetables'}), confidence=0.43470149253731344, lift=2.2466049285887952)])\n\nRelationRecord(items=frozenset({'other vegetables', 'whipped/sour cream'}), support=0.02887646161667514, ordered_statistics=[OrderedStatistic(items_base=frozenset({'other vegetables'}), items_add=frozenset({'whipped/sour cream'}), confidence=0.14923804519180242, lift=2.081923651718265), OrderedStatistic(items_base=frozenset({'whipped/sour cream'}), items_add=frozenset({'other vegetables'}), confidence=0.40283687943262414, lift=2.081923651718265)])\n\nRelationRecord(items=frozenset({'tropical fruit', 'pip fruit'}), support=0.02043721403152008, ordered_statistics=[OrderedStatistic(items_base=frozenset({'pip fruit'}), items_add=frozenset({'tropical fruit'}), confidence=0.2701612903225806, lift=2.5746475681420353), OrderedStatistic(items_base=frozenset({'tropical fruit'}), items_add=frozenset({'pip fruit'}), confidence=0.1947674418604651, lift=2.5746475681420353)])\n\nRelationRecord(items=frozenset({'tropical fruit', 'yogurt'}), support=0.029283172343670564, ordered_statistics=[OrderedStatistic(items_base=frozenset({'tropical fruit'}), items_add=frozenset({'yogurt'}), confidence=0.27906976744186046, lift=2.0004746084480303), OrderedStatistic(items_base=frozenset({'yogurt'}), items_add=frozenset({'tropical fruit'}), confidence=0.20991253644314867, lift=2.0004746084480303)])\n\nRelationRecord(items=frozenset({'whipped/sour cream', 'yogurt'}), support=0.02074224707676665, ordered_statistics=[OrderedStatistic(items_base=frozenset({'whipped/sour cream'}), items_add=frozenset({'yogurt'}), confidence=0.2893617021276596, lift=2.0742509769865394), OrderedStatistic(items_base=frozenset({'yogurt'}), items_add=frozenset({'whipped/sour cream'}), confidence=0.14868804664723032, lift=2.0742509769865394)])\n\nRelationRecord(items=frozenset({'other vegetables', 'whole milk', 'root vegetables'}), support=0.023182511438739197, ordered_statistics=[OrderedStatistic(items_base=frozenset({'other vegetables'}), items_add=frozenset({'whole milk', 'root vegetables'}), confidence=0.11981082501313715, lift=2.4497701954349353), OrderedStatistic(items_base=frozenset({'root vegetables'}), items_add=frozenset({'other vegetables', 'whole milk'}), confidence=0.2126865671641791, lift=2.84208204899416), OrderedStatistic(items_base=frozenset({'other vegetables', 'whole milk'}), items_add=frozenset({'root vegetables'}), confidence=0.30978260869565216, lift=2.84208204899416), OrderedStatistic(items_base=frozenset({'whole milk', 'root vegetables'}), items_add=frozenset({'other vegetables'}), confidence=0.47401247401247404, lift=2.4497701954349353)])\n\nRelationRecord(items=frozenset({'other vegetables', 'whole milk', 'yogurt'}), support=0.02226741230299949, ordered_statistics=[OrderedStatistic(items_base=frozenset({'other vegetables'}), items_add=frozenset({'whole milk', 'yogurt'}), confidence=0.11508145034156594, lift=2.0541307878571704), OrderedStatistic(items_base=frozenset({'whole milk'}), items_add=frozenset({'other vegetables', 'yogurt'}), confidence=0.08714683645045761, lift=2.0072345116867694), OrderedStatistic(items_base=frozenset({'yogurt'}), items_add=frozenset({'other vegetables', 'whole milk'}), confidence=0.1596209912536443, lift=2.132978870896184), OrderedStatistic(items_base=frozenset({'other vegetables', 'whole milk'}), items_add=frozenset({'yogurt'}), confidence=0.2975543478260869, lift=2.132978870896184), OrderedStatistic(items_base=frozenset({'other vegetables', 'yogurt'}), items_add=frozenset({'whole milk'}), confidence=0.5128805620608898, lift=2.0072345116867694), OrderedStatistic(items_base=frozenset({'whole milk', 'yogurt'}), items_add=frozenset({'other vegetables'}), confidence=0.39745916515426494, lift=2.0541307878571704)])\n\n"
    }
   ],
   "source": [
    "results = apriori(items, min_support = 0.02, min_confidence = 0.05,  min_length = 2, min_lift = 2)\n",
    "for i in list(results):\n",
    "    print('{}\\n'.format(i))"
   ]
  },
  {
   "cell_type": "code",
   "execution_count": null,
   "metadata": {},
   "outputs": [],
   "source": []
  }
 ],
 "metadata": {
  "kernelspec": {
   "display_name": "Python 3",
   "language": "python",
   "name": "python3"
  },
  "language_info": {
   "codemirror_mode": {
    "name": "ipython",
    "version": 3
   },
   "file_extension": ".py",
   "mimetype": "text/x-python",
   "name": "python",
   "nbconvert_exporter": "python",
   "pygments_lexer": "ipython3",
   "version": "3.8.5-final"
  }
 },
 "nbformat": 4,
 "nbformat_minor": 2
}