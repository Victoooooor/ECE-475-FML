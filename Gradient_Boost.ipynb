{
 "metadata": {
  "language_info": {
   "codemirror_mode": {
    "name": "ipython",
    "version": 3
   },
   "file_extension": ".py",
   "mimetype": "text/x-python",
   "name": "python",
   "nbconvert_exporter": "python",
   "pygments_lexer": "ipython3",
   "version": "3.7.7-final"
  },
  "orig_nbformat": 2,
  "kernelspec": {
   "name": "python_defaultSpec_1597274851560",
   "display_name": "Python 3.7.7 64-bit"
  }
 },
 "nbformat": 4,
 "nbformat_minor": 2,
 "cells": [
  {
   "cell_type": "code",
   "execution_count": 1,
   "metadata": {},
   "outputs": [],
   "source": [
    "import pandas as pd\n",
    "import numpy as np\n",
    "from FML.Gradient.prep import FL\n",
    "from FML.Gradient.XGBoost import XGB\n",
    "trainfile = 'XGBoost_train.csv'\n",
    "testfile = 'XGBoost_test.csv'\n",
    "validfile = 'XGBoost_validation.csv'\n",
    "data_prep = FL('abalone.data')\n",
    "#data_prep.prep(0,trainfile, testfile, validfile)"
   ]
  },
  {
   "cell_type": "code",
   "execution_count": 2,
   "metadata": {},
   "outputs": [],
   "source": [
    "XGB_tree = XGB(trainfile,testfile,validfile,0)\n"
   ]
  },
  {
   "cell_type": "code",
   "execution_count": 3,
   "metadata": {
    "tags": []
   },
   "outputs": [
    {
     "output_type": "stream",
     "name": "stdout",
     "text": "Base Error rate: 0.24962586052080216\nTest Error rate: 0.48564593301435405\n"
    }
   ],
   "source": [
    "start = 0\n",
    "end = 200\n",
    "samples = 200\n",
    "param = {'objective':'reg:squarederror', 'eta':1.5, 'max_depth':7}\n",
    "lamda = np.linspace(start,end,samples)\n",
    "XGB_tree.train_lambda(lamda,param,10)\n",
    "optimum = XGB_tree.rate.index(min(XGB_tree.rate))\n",
    "print('Base Error rate: {}'.format(XGB_tree.base(lamda[optimum],param,10)))\n",
    "print('Test Error rate: {}'.format(XGB_tree.test(lamda[optimum],param,10)))"
   ]
  },
  {
   "cell_type": "code",
   "execution_count": 4,
   "metadata": {
    "tags": []
   },
   "outputs": [
    {
     "output_type": "stream",
     "name": "stdout",
     "text": "Base Error rate: 0.3998802753666567\nTest Error rate: 0.4449760765550239\n"
    }
   ],
   "source": [
    "param = {'objective':'reg:squarederror', 'eta':1.5, 'max_depth':3}\n",
    "lamda = np.linspace(start,end,samples)\n",
    "XGB_tree.train_lambda(lamda,param,10)\n",
    "optimum = XGB_tree.rate.index(min(XGB_tree.rate))\n",
    "print('Base Error rate: {}'.format(XGB_tree.base(lamda[optimum],param,10)))\n",
    "print('Test Error rate: {}'.format(XGB_tree.test(lamda[optimum],param,10)))"
   ]
  },
  {
   "cell_type": "code",
   "execution_count": 5,
   "metadata": {
    "tags": []
   },
   "outputs": [
    {
     "output_type": "stream",
     "name": "stdout",
     "text": "Importance: {'6': 43.125243992, '8': 7.318074016818182, '1': 16.214272061111107, '7': 1.9892379876000004, '4': 5.384971956666665, '5': 3.194512652333333, '2': 2.0544017182, '3': 0.4952647685}\n"
    }
   ],
   "source": [
    "print('Importance: {}'.format(XGB_tree.importance))"
   ]
  }
 ]
}