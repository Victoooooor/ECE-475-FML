{
 "cells": [
  {
   "cell_type": "code",
   "execution_count": 3,
   "metadata": {
    "tags": []
   },
   "outputs": [
    {
     "output_type": "stream",
     "name": "stdout",
     "text": "_='_=%r;print (_%%_)';print (_%_)\n"
    }
   ],
   "source": [
    "_='_=%r;print (_%%_)';print (_%_) "
   ]
  },
  {
   "cell_type": "code",
   "execution_count": 4,
   "metadata": {
    "tags": []
   },
   "outputs": [
    {
     "output_type": "stream",
     "name": "stdout",
     "text": "Writing file.txt\n"
    }
   ],
   "source": [
    "%%writefile file.txt\n",
    "first\n",
    "second\n",
    "third"
   ]
  },
  {
   "cell_type": "code",
   "execution_count": 15,
   "metadata": {
    "tags": []
   },
   "outputs": [
    {
     "output_type": "execute_result",
     "data": {
      "text/plain": "'first\\nsecond\\nthird\\n'"
     },
     "metadata": {},
     "execution_count": 15
    }
   ],
   "source": [
    "with open('file.txt', mode='r+') as io:\n",
    "    i = io.read()\n",
    "i"
   ]
  },
  {
   "cell_type": "code",
   "execution_count": 29,
   "metadata": {
    "tags": []
   },
   "outputs": [
    {
     "output_type": "stream",
     "name": "stdout",
     "text": "1\n"
    }
   ],
   "source": [
    "item = [1,2,3]\n",
    "for i in item:\n",
    "    print(i)\n",
    "    break\n",
    "    "
   ]
  },
  {
   "cell_type": "code",
   "execution_count": 12,
   "metadata": {
    "tags": []
   },
   "outputs": [
    {
     "output_type": "execute_result",
     "data": {
      "text/plain": "['A', 's', 'K', 'd', 'J', 'h', 'K', 'h', 'J']"
     },
     "metadata": {},
     "execution_count": 12
    }
   ],
   "source": [
    "xx = 'askdjhkhj'\n",
    "xx = list(xx)\n",
    "xx[0::2] = [xx.lower() for xx in xx[0::2]]\n",
    "xx[1::2] = [xx.upper() for xx in xx[1::2]]\n"
   ]
  },
  {
   "cell_type": "code",
   "execution_count": 1,
   "metadata": {},
   "outputs": [
    {
     "output_type": "execute_result",
     "data": {
      "text/plain": "[1, 0, 2, 3, 4]"
     },
     "metadata": {},
     "execution_count": 1
    }
   ],
   "source": [
    "[1]+[0,2,3,4]"
   ]
  },
  {
   "cell_type": "code",
   "execution_count": null,
   "metadata": {},
   "outputs": [],
   "source": []
  }
 ],
 "metadata": {
  "language_info": {
   "codemirror_mode": {
    "name": "ipython",
    "version": 3
   },
   "file_extension": ".py",
   "mimetype": "text/x-python",
   "name": "python",
   "nbconvert_exporter": "python",
   "pygments_lexer": "ipython3",
   "version": 3
  },
  "orig_nbformat": 2,
  "kernelspec": {
   "name": "python_defaultSpec_1595252704511",
   "display_name": "Python 3.8.3 32-bit"
  }
 },
 "nbformat": 4,
 "nbformat_minor": 2
}